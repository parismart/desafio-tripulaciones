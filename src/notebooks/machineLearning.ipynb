{
 "cells": [
  {
   "cell_type": "code",
   "execution_count": null,
   "metadata": {},
   "outputs": [],
   "source": []
  }
 ],
 "metadata": {
  "kernelspec": {
   "display_name": "Python 3.9.12 ('django')",
   "language": "python",
   "name": "python3"
  },
  "language_info": {
   "name": "python",
   "version": "3.9.12"
  },
  "orig_nbformat": 4,
  "vscode": {
   "interpreter": {
    "hash": "4714f07c0e163aa05ace8a6129be0396703c37c65ff43eb05859e3ed910f58b5"
   }
  }
 },
 "nbformat": 4,
 "nbformat_minor": 2
}
