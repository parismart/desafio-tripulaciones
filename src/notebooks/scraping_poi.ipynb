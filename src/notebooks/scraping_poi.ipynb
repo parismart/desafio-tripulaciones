{
 "cells": [
  {
   "cell_type": "code",
   "execution_count": 39,
   "metadata": {},
   "outputs": [],
   "source": [
    "from selenium import webdriver\n",
    "from webdriver_manager.chrome import ChromeDriverManager\n",
    "import time\n",
    "from bs4 import BeautifulSoup as bs\n",
    "import pandas as pd\n",
    "import lxml"
   ]
  },
  {
   "cell_type": "code",
   "execution_count": 40,
   "metadata": {},
   "outputs": [
    {
     "name": "stdout",
     "output_type": "stream",
     "text": [
      "\n"
     ]
    },
    {
     "name": "stderr",
     "output_type": "stream",
     "text": [
      "C:\\Users\\Paris\\AppData\\Local\\Temp\\ipykernel_13056\\794677937.py:2: DeprecationWarning: executable_path has been deprecated, please pass in a Service object\n",
      "  driver = webdriver.Chrome(ChromeDriverManager().install())\n"
     ]
    }
   ],
   "source": [
    "# Creamos el driver con el que nos vamos a manejar en la sesión de scrapeo:\n",
    "driver = webdriver.Chrome(ChromeDriverManager().install())"
   ]
  },
  {
   "cell_type": "code",
   "execution_count": 41,
   "metadata": {},
   "outputs": [
    {
     "data": {
      "text/html": [
       "<div>\n",
       "<style scoped>\n",
       "    .dataframe tbody tr th:only-of-type {\n",
       "        vertical-align: middle;\n",
       "    }\n",
       "\n",
       "    .dataframe tbody tr th {\n",
       "        vertical-align: top;\n",
       "    }\n",
       "\n",
       "    .dataframe thead th {\n",
       "        text-align: right;\n",
       "    }\n",
       "</style>\n",
       "<table border=\"1\" class=\"dataframe\">\n",
       "  <thead>\n",
       "    <tr style=\"text-align: right;\">\n",
       "      <th></th>\n",
       "      <th>name</th>\n",
       "      <th>description</th>\n",
       "      <th>types</th>\n",
       "      <th>duration</th>\n",
       "      <th>dificulty</th>\n",
       "      <th>start</th>\n",
       "      <th>end</th>\n",
       "      <th>image</th>\n",
       "      <th>url</th>\n",
       "    </tr>\n",
       "  </thead>\n",
       "  <tbody>\n",
       "    <tr>\n",
       "      <th>0</th>\n",
       "      <td>Árboles monumentales y singulares</td>\n",
       "      <td>Los Árboles Monumentales y Singulares reflejan...</td>\n",
       "      <td>['bicicleta', 'Històrica']</td>\n",
       "      <td>2 h</td>\n",
       "      <td>baja</td>\n",
       "      <td>Plaza del Ayuntamiento</td>\n",
       "      <td>Jardines de la Glorieta y Parterre</td>\n",
       "      <td>https://cultural.valencia.es/wp-content/upload...</td>\n",
       "      <td>https://cultural.valencia.es/es/ruta/testigos-...</td>\n",
       "    </tr>\n",
       "    <tr>\n",
       "      <th>1</th>\n",
       "      <td>Árboles: La vuelta al mundo</td>\n",
       "      <td>Ruta que contiene árboles originarios de todo ...</td>\n",
       "      <td>['peu', 'Turística']</td>\n",
       "      <td>30 min</td>\n",
       "      <td>baja</td>\n",
       "      <td>Entrada Jardines del Real (C/ San Pio V)</td>\n",
       "      <td>Museo de Ciencias Naturales</td>\n",
       "      <td>https://cultural.valencia.es/wp-content/upload...</td>\n",
       "      <td>https://cultural.valencia.es/es/ruta/arboles-l...</td>\n",
       "    </tr>\n",
       "    <tr>\n",
       "      <th>2</th>\n",
       "      <td>Árboles: Los indianos</td>\n",
       "      <td>Ruta por el barrio de Ayora que finaliza al Ja...</td>\n",
       "      <td>['peu', 'Turística']</td>\n",
       "      <td>1h</td>\n",
       "      <td>baja</td>\n",
       "      <td>Av. de J. J. Dómine</td>\n",
       "      <td>Palacete de Ayora</td>\n",
       "      <td>https://cultural.valencia.es/wp-content/upload...</td>\n",
       "      <td>https://cultural.valencia.es/es/ruta/arboles-l...</td>\n",
       "    </tr>\n",
       "    <tr>\n",
       "      <th>3</th>\n",
       "      <td>Árboles: Un paseo por la alameda</td>\n",
       "      <td>Esta ruta nos traslada a este emblemático luga...</td>\n",
       "      <td>['peu', 'Turística']</td>\n",
       "      <td>1h</td>\n",
       "      <td>baja</td>\n",
       "      <td>Plaza de Zaragoza</td>\n",
       "      <td>Avenida de Blasco Ibañez (Confederación hidrog...</td>\n",
       "      <td>https://cultural.valencia.es/wp-content/upload...</td>\n",
       "      <td>https://cultural.valencia.es/es/ruta/arboles-u...</td>\n",
       "    </tr>\n",
       "    <tr>\n",
       "      <th>4</th>\n",
       "      <td>Árboles: Un viaje por el Mediterráneo</td>\n",
       "      <td>La presencia de Árboles Monumentales y Singula...</td>\n",
       "      <td>['peu', 'Turística']</td>\n",
       "      <td>1 h</td>\n",
       "      <td>baja</td>\n",
       "      <td>Parque Wangari Maathai</td>\n",
       "      <td>Centro Cultural la Rambleta</td>\n",
       "      <td>https://cultural.valencia.es/wp-content/upload...</td>\n",
       "      <td>https://cultural.valencia.es/es/ruta/arboles-u...</td>\n",
       "    </tr>\n",
       "  </tbody>\n",
       "</table>\n",
       "</div>"
      ],
      "text/plain": [
       "                                    name  \\\n",
       "0      Árboles monumentales y singulares   \n",
       "1            Árboles: La vuelta al mundo   \n",
       "2                  Árboles: Los indianos   \n",
       "3       Árboles: Un paseo por la alameda   \n",
       "4  Árboles: Un viaje por el Mediterráneo   \n",
       "\n",
       "                                         description  \\\n",
       "0  Los Árboles Monumentales y Singulares reflejan...   \n",
       "1  Ruta que contiene árboles originarios de todo ...   \n",
       "2  Ruta por el barrio de Ayora que finaliza al Ja...   \n",
       "3  Esta ruta nos traslada a este emblemático luga...   \n",
       "4  La presencia de Árboles Monumentales y Singula...   \n",
       "\n",
       "                        types duration dificulty  \\\n",
       "0  ['bicicleta', 'Històrica']      2 h      baja   \n",
       "1        ['peu', 'Turística']   30 min      baja   \n",
       "2        ['peu', 'Turística']       1h      baja   \n",
       "3        ['peu', 'Turística']       1h      baja   \n",
       "4        ['peu', 'Turística']      1 h      baja   \n",
       "\n",
       "                                      start  \\\n",
       "0                    Plaza del Ayuntamiento   \n",
       "1  Entrada Jardines del Real (C/ San Pio V)   \n",
       "2                       Av. de J. J. Dómine   \n",
       "3                         Plaza de Zaragoza   \n",
       "4                    Parque Wangari Maathai   \n",
       "\n",
       "                                                 end  \\\n",
       "0                 Jardines de la Glorieta y Parterre   \n",
       "1                        Museo de Ciencias Naturales   \n",
       "2                                  Palacete de Ayora   \n",
       "3  Avenida de Blasco Ibañez (Confederación hidrog...   \n",
       "4                        Centro Cultural la Rambleta   \n",
       "\n",
       "                                               image  \\\n",
       "0  https://cultural.valencia.es/wp-content/upload...   \n",
       "1  https://cultural.valencia.es/wp-content/upload...   \n",
       "2  https://cultural.valencia.es/wp-content/upload...   \n",
       "3  https://cultural.valencia.es/wp-content/upload...   \n",
       "4  https://cultural.valencia.es/wp-content/upload...   \n",
       "\n",
       "                                                 url  \n",
       "0  https://cultural.valencia.es/es/ruta/testigos-...  \n",
       "1  https://cultural.valencia.es/es/ruta/arboles-l...  \n",
       "2  https://cultural.valencia.es/es/ruta/arboles-l...  \n",
       "3  https://cultural.valencia.es/es/ruta/arboles-u...  \n",
       "4  https://cultural.valencia.es/es/ruta/arboles-u...  "
      ]
     },
     "execution_count": 41,
     "metadata": {},
     "output_type": "execute_result"
    }
   ],
   "source": [
    "df = pd.read_csv('data/routes.csv', index_col=0)\n",
    "df.head(5)"
   ]
  },
  {
   "cell_type": "code",
   "execution_count": 42,
   "metadata": {},
   "outputs": [],
   "source": [
    "    driver.get(df.url[0])\n",
    "    time.sleep(5)\n",
    "    soup = bs(driver.page_source,\"lxml\")"
   ]
  },
  {
   "cell_type": "code",
   "execution_count": 43,
   "metadata": {},
   "outputs": [],
   "source": [
    "    desc_soup = soup.select(\"div.col-md-12 p\")\n",
    "    name_soup = soup.select(\"h4.panel-title a\")"
   ]
  },
  {
   "cell_type": "code",
   "execution_count": 44,
   "metadata": {},
   "outputs": [],
   "source": [
    "descriptions = []\n",
    "for description in desc_soup:\n",
    "    descriptions.append(description.text)"
   ]
  },
  {
   "cell_type": "code",
   "execution_count": 45,
   "metadata": {},
   "outputs": [],
   "source": [
    "names = []\n",
    "for name in name_soup:\n",
    "    names.append(name.text.split('\\n')[1].strip())"
   ]
  },
  {
   "cell_type": "code",
   "execution_count": 46,
   "metadata": {},
   "outputs": [],
   "source": [
    "descriptions = []\n",
    "names = []\n",
    "for url in df.url:\n",
    "    driver.get(url)\n",
    "    time.sleep(5)\n",
    "    soup = bs(driver.page_source,\"lxml\")\n",
    "    desc_soup = soup.select(\"div.col-md-12 p\")\n",
    "    name_soup = soup.select(\"h4.panel-title a\")\n",
    "    for name in name_soup:\n",
    "        names.append(name.text.split('\\n')[1].strip())\n",
    "    for description in desc_soup:\n",
    "        descriptions.append(description.text)"
   ]
  },
  {
   "cell_type": "code",
   "execution_count": 48,
   "metadata": {},
   "outputs": [
    {
     "data": {
      "text/plain": [
       "146"
      ]
     },
     "execution_count": 48,
     "metadata": {},
     "output_type": "execute_result"
    }
   ],
   "source": [
    "len(names)"
   ]
  }
 ],
 "metadata": {
  "kernelspec": {
   "display_name": "Python 3.8.13 ('desafio')",
   "language": "python",
   "name": "python3"
  },
  "language_info": {
   "codemirror_mode": {
    "name": "ipython",
    "version": 3
   },
   "file_extension": ".py",
   "mimetype": "text/x-python",
   "name": "python",
   "nbconvert_exporter": "python",
   "pygments_lexer": "ipython3",
   "version": "3.8.13"
  },
  "orig_nbformat": 4,
  "vscode": {
   "interpreter": {
    "hash": "5d04af2a4c2eebf185407e64277cc7655766a357171489808da903e927244626"
   }
  }
 },
 "nbformat": 4,
 "nbformat_minor": 2
}
