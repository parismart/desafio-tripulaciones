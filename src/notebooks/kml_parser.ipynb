{
 "cells": [
  {
   "cell_type": "code",
   "execution_count": 58,
   "metadata": {},
   "outputs": [],
   "source": [
    "\n",
    "import pandas as pd\n",
    "from bs4 import BeautifulSoup as bs\n",
    "import numpy as np\n",
    "import xml\n",
    "import os "
   ]
  },
  {
   "cell_type": "code",
   "execution_count": 59,
   "metadata": {},
   "outputs": [],
   "source": [
    "\n",
    "\n",
    "des_list = []\n",
    "cor_list = []\n",
    "name_ruta_list = []\n",
    "name_punto_interes_list = []\n",
    "des_ruta_list = []\n",
    "\n",
    "\n",
    "for i in (os.listdir('kml')):\n",
    "\n",
    "    with open(f'kml/{i}','r') as page:\n",
    "\n",
    "        soup = bs(page, \"xml\")\n",
    "\n",
    "        des = soup.select('description') \n",
    "        des_1 = [x.get_text() for x in des]\n",
    "        des_list += des_1[1:]\n",
    "\n",
    "        cor = soup.select('coordinates')\n",
    "        cor_1 = [x.get_text().split() for x in cor]\n",
    "        cor_list +=cor_1\n",
    "\n",
    "        name_punto_interes = soup.select('Placemark name')\n",
    "        name_punto_interes_1 = [x.get_text() for x in name_punto_interes]\n",
    "        name_punto_interes_list += name_punto_interes_1\n",
    "\n",
    "        name_ruta = soup.select('name')\n",
    "        name_ruta_1 = name_ruta[0].get_text()\n",
    "        name_ruta_list += [name_ruta_1 ] * len(name_punto_interes_1)\n",
    "\n",
    "        des_ruta_list += [des_1[0]] * len(name_punto_interes_1)\n",
    "\n"
   ]
  },
  {
   "cell_type": "code",
   "execution_count": 60,
   "metadata": {},
   "outputs": [],
   "source": [
    "\n",
    "\n",
    "url = 'kml_2/Arbres Un viatge pel Mediterrani.kml'\n",
    "\n",
    "with open(url,'r') as page:\n",
    "\n",
    "        soup = bs(page, \"xml\")\n",
    "\n",
    "        des = soup.select('description') \n",
    "        des_1 = [x.get_text() for x in des]\n",
    "        des_list += des_1[1:]\n",
    "\n",
    "        cor = soup.select('Point coordinates')\n",
    "        cor_1 = [x.get_text().split() for x in cor]\n",
    "        cor_list +=cor_1[:4]\n",
    "\n",
    "        name_punto_interes = soup.select('Placemark name')\n",
    "        name_punto_interes_1 = [x.get_text() for x in name_punto_interes][:4]\n",
    "        name_punto_interes_list += name_punto_interes_1\n",
    "\n",
    "        name_ruta = soup.select('name')\n",
    "        name_ruta_1 = name_ruta[0].get_text()\n",
    "        name_ruta_list += [name_ruta_1 ] * len(name_punto_interes_1)\n",
    "\n",
    "        des_ruta_list += [des_1[0]] * len(name_punto_interes_1)"
   ]
  },
  {
   "cell_type": "code",
   "execution_count": 61,
   "metadata": {},
   "outputs": [],
   "source": [
    "url = 'kml_2/Arbres La volta al món.kml'\n",
    "\n",
    "with open(url,'r') as page:\n",
    "\n",
    "        soup = bs(page, \"xml\")\n",
    "\n",
    "        des = soup.select('description') \n",
    "        des_1 = [x.get_text() for x in des]\n",
    "        des_list += des_1[1:]\n",
    "\n",
    "        cor = soup.select('Point coordinates')\n",
    "        cor_1 = [x.get_text().split() for x in cor]\n",
    "        cor_list +=cor_1[:3]\n",
    "\n",
    "        name_punto_interes = soup.select('Placemark name')\n",
    "        name_punto_interes_1 = [x.get_text() for x in name_punto_interes][:3]\n",
    "        name_punto_interes_list += name_punto_interes_1\n",
    "\n",
    "        name_ruta = soup.select('name')\n",
    "        name_ruta_1 = name_ruta[0].get_text()\n",
    "        name_ruta_list += [name_ruta_1 ] * len(name_punto_interes_1)\n",
    "\n",
    "        des_ruta_list += [des_1[0]] * len(name_punto_interes_1)"
   ]
  },
  {
   "cell_type": "code",
   "execution_count": 62,
   "metadata": {},
   "outputs": [],
   "source": [
    "\n",
    "url = \"kml_2/Ruta recinte enmurallat d'època islàmica.kml\"\n",
    "\n",
    "with open(url,'r') as page:\n",
    "\n",
    "        soup = bs(page, \"xml\")\n",
    "\n",
    "        des = soup.select('description')\n",
    "        des_0 = des_1[0]\n",
    "        des_1 = [x.get_text().split('<br>')[2] for x in des[1:-4]]\n",
    "        des_2 = des[-4].text.split('<br>')[2]\n",
    "        des_list += [des_0] + des_1[1:] + ['None'] + [des_2]\n",
    "\n",
    "\n",
    "        des_3 = des[-3].text\n",
    "        des_4 = des[-2].text.split('<br>')[2]\n",
    "        des_5 = des[-1].text\n",
    "        des_list += [des_3] + [des_4] + [des_5]\n",
    "\n",
    "        cor = soup.select('Point coordinates')\n",
    "        cor_1 = [x.get_text().split() for x in cor]\n",
    "        cor_list +=cor_1\n",
    "\n",
    "        name_punto_interes = soup.select('Placemark name')\n",
    "        name_punto_interes_1 = [x.get_text() for x in name_punto_interes]\n",
    "        name_punto_interes_list += name_punto_interes_1\n",
    "\n",
    "        name_ruta = soup.select('name')\n",
    "        name_ruta_1 = name_ruta[0].get_text()\n",
    "        name_ruta_list += [name_ruta_1 ] * len(name_punto_interes_1)\n",
    "\n",
    "        des_ruta_list += [des[0].text]* len(name_punto_interes_1)"
   ]
  },
  {
   "cell_type": "code",
   "execution_count": 63,
   "metadata": {},
   "outputs": [
    {
     "name": "stdout",
     "output_type": "stream",
     "text": [
      "280 280 280 280 280\n"
     ]
    }
   ],
   "source": [
    "print(len(des_list), len(cor_list), len(name_ruta_list), len(name_punto_interes_list), len(des_ruta_list))\n"
   ]
  },
  {
   "cell_type": "code",
   "execution_count": 64,
   "metadata": {},
   "outputs": [],
   "source": [
    "\n",
    "data = {\n",
    "\"descripcion\": des_list,\n",
    "\"coordenadas\": cor_list,\n",
    "\"nombre_ruta\": name_ruta_list,\n",
    "\"nombre_punto_interes\": name_punto_interes_list,\n",
    "\"descripcion_ruta\": des_ruta_list\n",
    "}\n",
    "\n",
    "df_rutas = pd.DataFrame(data)\n"
   ]
  },
  {
   "cell_type": "code",
   "execution_count": 65,
   "metadata": {},
   "outputs": [],
   "source": [
    "df_rutas.to_csv('data/puntos_interes.csv')"
   ]
  }
 ],
 "metadata": {
  "kernelspec": {
   "display_name": "Python 3.8.13 ('desafio')",
   "language": "python",
   "name": "python3"
  },
  "language_info": {
   "codemirror_mode": {
    "name": "ipython",
    "version": 3
   },
   "file_extension": ".py",
   "mimetype": "text/x-python",
   "name": "python",
   "nbconvert_exporter": "python",
   "pygments_lexer": "ipython3",
   "version": "3.8.13"
  },
  "orig_nbformat": 4,
  "vscode": {
   "interpreter": {
    "hash": "5d04af2a4c2eebf185407e64277cc7655766a357171489808da903e927244626"
   }
  }
 },
 "nbformat": 4,
 "nbformat_minor": 2
}
