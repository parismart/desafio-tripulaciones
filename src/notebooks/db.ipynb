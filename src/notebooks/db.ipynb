{
 "cells": [
  {
   "cell_type": "code",
   "execution_count": 1,
   "metadata": {},
   "outputs": [],
   "source": [
    "import pandas as pd"
   ]
  },
  {
   "cell_type": "code",
   "execution_count": 20,
   "metadata": {},
   "outputs": [],
   "source": [
    "df = pd.read_csv('data/ultimate_routes.csv')"
   ]
  },
  {
   "cell_type": "code",
   "execution_count": 21,
   "metadata": {},
   "outputs": [],
   "source": [
    "df = df.drop('route_id', axis = 1)"
   ]
  },
  {
   "cell_type": "code",
   "execution_count": 22,
   "metadata": {},
   "outputs": [],
   "source": [
    "df = df.rename({\"end\": \"end_point\"}, axis=1)"
   ]
  },
  {
   "cell_type": "code",
   "execution_count": 2,
   "metadata": {},
   "outputs": [],
   "source": [
    "df2 = pd.read_csv('data/ultimate_points.csv')"
   ]
  },
  {
   "cell_type": "code",
   "execution_count": 3,
   "metadata": {},
   "outputs": [],
   "source": [
    "df2 = df2.drop('nombre_ruta', axis = 1)"
   ]
  },
  {
   "cell_type": "code",
   "execution_count": 4,
   "metadata": {},
   "outputs": [],
   "source": [
    "df2 = df2.rename({\"id_route\": \"route_id\"}, axis=1)"
   ]
  },
  {
   "cell_type": "code",
   "execution_count": 28,
   "metadata": {},
   "outputs": [],
   "source": [
    "df2['route_id'] = df2.route_id + 1"
   ]
  },
  {
   "cell_type": "code",
   "execution_count": 29,
   "metadata": {},
   "outputs": [
    {
     "data": {
      "text/html": [
       "<div>\n",
       "<style scoped>\n",
       "    .dataframe tbody tr th:only-of-type {\n",
       "        vertical-align: middle;\n",
       "    }\n",
       "\n",
       "    .dataframe tbody tr th {\n",
       "        vertical-align: top;\n",
       "    }\n",
       "\n",
       "    .dataframe thead th {\n",
       "        text-align: right;\n",
       "    }\n",
       "</style>\n",
       "<table border=\"1\" class=\"dataframe\">\n",
       "  <thead>\n",
       "    <tr style=\"text-align: right;\">\n",
       "      <th></th>\n",
       "      <th>route_id</th>\n",
       "      <th>nombre_punto_interes</th>\n",
       "      <th>lat</th>\n",
       "      <th>long</th>\n",
       "      <th>val_descripcion</th>\n",
       "      <th>cast_descripcion</th>\n",
       "      <th>eng_descripcion</th>\n",
       "    </tr>\n",
       "  </thead>\n",
       "  <tbody>\n",
       "    <tr>\n",
       "      <th>0</th>\n",
       "      <td>3</td>\n",
       "      <td>Avinguda de J.J. Dómine</td>\n",
       "      <td>-0.331894</td>\n",
       "      <td>39.461346</td>\n",
       "      <td>Inici de la ruta, dominada per dos exemplars d...</td>\n",
       "      <td>Inicio de la ruta, dominada por dos ejemplares...</td>\n",
       "      <td>Start of the route, dominated by two specimens...</td>\n",
       "    </tr>\n",
       "    <tr>\n",
       "      <th>1</th>\n",
       "      <td>3</td>\n",
       "      <td>Drassanes del Grau</td>\n",
       "      <td>-0.333814</td>\n",
       "      <td>39.460510</td>\n",
       "      <td>En aquesta part intermèdia abans d’encarar l’A...</td>\n",
       "      <td>En esta parte intermedia antes de encarar la A...</td>\n",
       "      <td>In this intermediate part before facing the Av...</td>\n",
       "    </tr>\n",
       "    <tr>\n",
       "      <th>2</th>\n",
       "      <td>3</td>\n",
       "      <td>Jardí d'Aiora</td>\n",
       "      <td>-0.343999</td>\n",
       "      <td>39.467510</td>\n",
       "      <td>Últim tram de la ruta que no obstant això repr...</td>\n",
       "      <td>Último tramo de la ruta que sin embargo repres...</td>\n",
       "      <td>Last section of the route that nevertheless re...</td>\n",
       "    </tr>\n",
       "    <tr>\n",
       "      <th>3</th>\n",
       "      <td>1</td>\n",
       "      <td>Plaça del Ajuntament</td>\n",
       "      <td>-0.376672</td>\n",
       "      <td>39.469795</td>\n",
       "      <td>(Chamaerops humilis) En la Plaça del Ajuntamen...</td>\n",
       "      <td>(Chamaerops humilis) En la Plaza del Ayuntamie...</td>\n",
       "      <td>(Chamaerops humilis) In the Plaza del Ayuntami...</td>\n",
       "    </tr>\n",
       "    <tr>\n",
       "      <th>4</th>\n",
       "      <td>1</td>\n",
       "      <td>Jardí de Sant Agustí</td>\n",
       "      <td>-0.380391</td>\n",
       "      <td>39.468594</td>\n",
       "      <td>En el Jardí de Sant Agustí es troba un lledone...</td>\n",
       "      <td>En el Jardín de San Agustín se encuentra un al...</td>\n",
       "      <td>In the Garden of San Agustín there is a hackbe...</td>\n",
       "    </tr>\n",
       "    <tr>\n",
       "      <th>...</th>\n",
       "      <td>...</td>\n",
       "      <td>...</td>\n",
       "      <td>...</td>\n",
       "      <td>...</td>\n",
       "      <td>...</td>\n",
       "      <td>...</td>\n",
       "      <td>...</td>\n",
       "    </tr>\n",
       "    <tr>\n",
       "      <th>288</th>\n",
       "      <td>18</td>\n",
       "      <td>Pont de les flors</td>\n",
       "      <td>-0.364308</td>\n",
       "      <td>39.471386</td>\n",
       "      <td>Les flors d'aquesta fita moderna es substituei...</td>\n",
       "      <td>Las flores de este hito moderno se sustituyen ...</td>\n",
       "      <td>The flowers on this modern landmark are replac...</td>\n",
       "    </tr>\n",
       "    <tr>\n",
       "      <th>289</th>\n",
       "      <td>18</td>\n",
       "      <td>Palau de la Música de València</td>\n",
       "      <td>-0.360149</td>\n",
       "      <td>39.466420</td>\n",
       "      <td>Lloc per a actuacions d'orquestra, concerts i ...</td>\n",
       "      <td>Lugar para actuaciones de orquesta, conciertos...</td>\n",
       "      <td>Place for orchestra performances, concerts and...</td>\n",
       "    </tr>\n",
       "    <tr>\n",
       "      <th>290</th>\n",
       "      <td>18</td>\n",
       "      <td>Ciutat de les Arts i les Ciències</td>\n",
       "      <td>-0.350480</td>\n",
       "      <td>39.455082</td>\n",
       "      <td>Complex científic d'última generació situat en...</td>\n",
       "      <td>Complejo científico de última generación situa...</td>\n",
       "      <td>State-of-the-art science complex set in a land...</td>\n",
       "    </tr>\n",
       "    <tr>\n",
       "      <th>291</th>\n",
       "      <td>18</td>\n",
       "      <td>La Marina de València</td>\n",
       "      <td>-0.329913</td>\n",
       "      <td>39.461643</td>\n",
       "      <td>L'antic port de la ciutat avui és la Marina de...</td>\n",
       "      <td>El antiguo puerto de la ciudad hoy es la Marin...</td>\n",
       "      <td>The old port of the city today is the Marina d...</td>\n",
       "    </tr>\n",
       "    <tr>\n",
       "      <th>292</th>\n",
       "      <td>18</td>\n",
       "      <td>Passeig Marítim de València</td>\n",
       "      <td>-0.324492</td>\n",
       "      <td>39.474740</td>\n",
       "      <td>El Passeig Marítim de València comença al cost...</td>\n",
       "      <td>El Paseo Marítimo de València empieza junto a ...</td>\n",
       "      <td>The Paseo Marítimo de València begins next to ...</td>\n",
       "    </tr>\n",
       "  </tbody>\n",
       "</table>\n",
       "<p>293 rows × 7 columns</p>\n",
       "</div>"
      ],
      "text/plain": [
       "     route_id               nombre_punto_interes       lat       long  \\\n",
       "0           3            Avinguda de J.J. Dómine -0.331894  39.461346   \n",
       "1           3                 Drassanes del Grau -0.333814  39.460510   \n",
       "2           3                      Jardí d'Aiora -0.343999  39.467510   \n",
       "3           1               Plaça del Ajuntament -0.376672  39.469795   \n",
       "4           1               Jardí de Sant Agustí -0.380391  39.468594   \n",
       "..        ...                                ...       ...        ...   \n",
       "288        18                  Pont de les flors -0.364308  39.471386   \n",
       "289        18     Palau de la Música de València -0.360149  39.466420   \n",
       "290        18  Ciutat de les Arts i les Ciències -0.350480  39.455082   \n",
       "291        18              La Marina de València -0.329913  39.461643   \n",
       "292        18        Passeig Marítim de València -0.324492  39.474740   \n",
       "\n",
       "                                       val_descripcion  \\\n",
       "0    Inici de la ruta, dominada per dos exemplars d...   \n",
       "1    En aquesta part intermèdia abans d’encarar l’A...   \n",
       "2    Últim tram de la ruta que no obstant això repr...   \n",
       "3    (Chamaerops humilis) En la Plaça del Ajuntamen...   \n",
       "4    En el Jardí de Sant Agustí es troba un lledone...   \n",
       "..                                                 ...   \n",
       "288  Les flors d'aquesta fita moderna es substituei...   \n",
       "289  Lloc per a actuacions d'orquestra, concerts i ...   \n",
       "290  Complex científic d'última generació situat en...   \n",
       "291  L'antic port de la ciutat avui és la Marina de...   \n",
       "292  El Passeig Marítim de València comença al cost...   \n",
       "\n",
       "                                      cast_descripcion  \\\n",
       "0    Inicio de la ruta, dominada por dos ejemplares...   \n",
       "1    En esta parte intermedia antes de encarar la A...   \n",
       "2    Último tramo de la ruta que sin embargo repres...   \n",
       "3    (Chamaerops humilis) En la Plaza del Ayuntamie...   \n",
       "4    En el Jardín de San Agustín se encuentra un al...   \n",
       "..                                                 ...   \n",
       "288  Las flores de este hito moderno se sustituyen ...   \n",
       "289  Lugar para actuaciones de orquesta, conciertos...   \n",
       "290  Complejo científico de última generación situa...   \n",
       "291  El antiguo puerto de la ciudad hoy es la Marin...   \n",
       "292  El Paseo Marítimo de València empieza junto a ...   \n",
       "\n",
       "                                       eng_descripcion  \n",
       "0    Start of the route, dominated by two specimens...  \n",
       "1    In this intermediate part before facing the Av...  \n",
       "2    Last section of the route that nevertheless re...  \n",
       "3    (Chamaerops humilis) In the Plaza del Ayuntami...  \n",
       "4    In the Garden of San Agustín there is a hackbe...  \n",
       "..                                                 ...  \n",
       "288  The flowers on this modern landmark are replac...  \n",
       "289  Place for orchestra performances, concerts and...  \n",
       "290  State-of-the-art science complex set in a land...  \n",
       "291  The old port of the city today is the Marina d...  \n",
       "292  The Paseo Marítimo de València begins next to ...  \n",
       "\n",
       "[293 rows x 7 columns]"
      ]
     },
     "execution_count": 29,
     "metadata": {},
     "output_type": "execute_result"
    }
   ],
   "source": [
    "df2"
   ]
  },
  {
   "cell_type": "code",
   "execution_count": 17,
   "metadata": {},
   "outputs": [
    {
     "data": {
      "text/plain": [
       "6504"
      ]
     },
     "execution_count": 17,
     "metadata": {},
     "output_type": "execute_result"
    }
   ],
   "source": [
    "lenght = []\n",
    "for i in df2.eng_descripcion:\n",
    "    lenght.append(len(i))\n",
    "max(lenght)"
   ]
  },
  {
   "cell_type": "code",
   "execution_count": 30,
   "metadata": {},
   "outputs": [],
   "source": [
    "df.to_csv(\"data/routes.csv\")\n",
    "df2.to_csv(\"data/poi.csv\")"
   ]
  },
  {
   "cell_type": "code",
   "execution_count": 148,
   "metadata": {},
   "outputs": [],
   "source": [
    "insert_query = f\"\"\"INSERT INTO hello_rutas(route_id,\n",
    "                name,\n",
    "                resume,\n",
    "                duration,\n",
    "                dificulty,\n",
    "                start,\n",
    "                end_point,\n",
    "                image,\n",
    "                url,\n",
    "                transport,\n",
    "                type,\n",
    "                description) values (%s,%s,%s,%s,%s,%s,%s,%s,%s,%s,%s,%s)\"\"\"\n",
    "\n",
    "\n",
    "#reading the csv file as pandas dataframe \n",
    "data = pd.read_csv('data/routes_clean.csv', index_col=0)\n",
    "#cursor defined in the prior script -> create_postgres_table.py\n",
    "#the .executemany require query(postgresql query) and vars_list(tuple or mappable sequence)00\n",
    "\n",
    "cursor.executemany(insert_query, df.values)\n",
    "conn.commit()\n"
   ]
  },
  {
   "cell_type": "code",
   "execution_count": 176,
   "metadata": {},
   "outputs": [
    {
     "ename": "StringDataRightTruncation",
     "evalue": "value too long for type character varying(2000)\n",
     "output_type": "error",
     "traceback": [
      "\u001b[1;31m---------------------------------------------------------------------------\u001b[0m",
      "\u001b[1;31mStringDataRightTruncation\u001b[0m                 Traceback (most recent call last)",
      "\u001b[1;32mc:\\Users\\Usuario\\Desktop\\desafio-tripulaciones - copia\\src\\notebooks\\db.ipynb Celda 12\u001b[0m in \u001b[0;36m<cell line: 9>\u001b[1;34m()\u001b[0m\n\u001b[0;32m      <a href='vscode-notebook-cell:/c%3A/Users/Usuario/Desktop/desafio-tripulaciones%20-%20copia/src/notebooks/db.ipynb#ch0000017?line=0'>1</a>\u001b[0m insert_query2 \u001b[39m=\u001b[39m \u001b[39mf\u001b[39m\u001b[39m\"\"\"\u001b[39m\u001b[39mINSERT INTO hello_puntos(route_id,\u001b[39m\n\u001b[0;32m      <a href='vscode-notebook-cell:/c%3A/Users/Usuario/Desktop/desafio-tripulaciones%20-%20copia/src/notebooks/db.ipynb#ch0000017?line=1'>2</a>\u001b[0m \u001b[39m                name,\u001b[39m\n\u001b[0;32m      <a href='vscode-notebook-cell:/c%3A/Users/Usuario/Desktop/desafio-tripulaciones%20-%20copia/src/notebooks/db.ipynb#ch0000017?line=2'>3</a>\u001b[0m \u001b[39m                lat,\u001b[39m\n\u001b[1;32m   (...)\u001b[0m\n\u001b[0;32m      <a href='vscode-notebook-cell:/c%3A/Users/Usuario/Desktop/desafio-tripulaciones%20-%20copia/src/notebooks/db.ipynb#ch0000017?line=5'>6</a>\u001b[0m \u001b[39m                cast_description,\u001b[39m\n\u001b[0;32m      <a href='vscode-notebook-cell:/c%3A/Users/Usuario/Desktop/desafio-tripulaciones%20-%20copia/src/notebooks/db.ipynb#ch0000017?line=6'>7</a>\u001b[0m \u001b[39m                eng_description) values (%s,%s,%s,%s,%s,%s,%s)\u001b[39m\u001b[39m\"\"\"\u001b[39m\n\u001b[1;32m----> <a href='vscode-notebook-cell:/c%3A/Users/Usuario/Desktop/desafio-tripulaciones%20-%20copia/src/notebooks/db.ipynb#ch0000017?line=8'>9</a>\u001b[0m cursor\u001b[39m.\u001b[39;49mexecutemany(insert_query2, df2\u001b[39m.\u001b[39;49mvalues)\n\u001b[0;32m     <a href='vscode-notebook-cell:/c%3A/Users/Usuario/Desktop/desafio-tripulaciones%20-%20copia/src/notebooks/db.ipynb#ch0000017?line=9'>10</a>\u001b[0m conn\u001b[39m.\u001b[39mcommit()\n",
      "\u001b[1;31mStringDataRightTruncation\u001b[0m: value too long for type character varying(2000)\n"
     ]
    }
   ],
   "source": [
    "insert_query2 = f\"\"\"INSERT INTO hello_puntos(route_id,\n",
    "                name,\n",
    "                lat,\n",
    "                lon,\n",
    "                val_description,\n",
    "                cast_description,\n",
    "                eng_description) values (%s,%s,%s,%s,%s,%s,%s)\"\"\"\n",
    "\n",
    "cursor.executemany(insert_query2, df2.values)\n",
    "conn.commit()"
   ]
  },
  {
   "cell_type": "code",
   "execution_count": 149,
   "metadata": {},
   "outputs": [],
   "source": [
    "cursor.close()\n"
   ]
  },
  {
   "cell_type": "code",
   "execution_count": 150,
   "metadata": {},
   "outputs": [],
   "source": [
    "conn.close()"
   ]
  }
 ],
 "metadata": {
  "kernelspec": {
   "display_name": "Python 3.8.13 ('desafio')",
   "language": "python",
   "name": "python3"
  },
  "language_info": {
   "codemirror_mode": {
    "name": "ipython",
    "version": 3
   },
   "file_extension": ".py",
   "mimetype": "text/x-python",
   "name": "python",
   "nbconvert_exporter": "python",
   "pygments_lexer": "ipython3",
   "version": "3.8.13"
  },
  "orig_nbformat": 4,
  "vscode": {
   "interpreter": {
    "hash": "5d04af2a4c2eebf185407e64277cc7655766a357171489808da903e927244626"
   }
  }
 },
 "nbformat": 4,
 "nbformat_minor": 2
}
