{
 "cells": [
  {
   "cell_type": "code",
   "execution_count": 1,
   "metadata": {},
   "outputs": [],
   "source": [
    "from selenium import webdriver\n",
    "import urllib3 # urllib3 es un cliente HTTP potente y fácil de usar para Python.\n",
    "import re # Expresiones regulares \n",
    "import time\n",
    "import pandas as pd\n",
    "from selenium import webdriver\n",
    "from webdriver_manager.chrome import ChromeDriverManager\n",
    "\n",
    "\n",
    "from bs4 import BeautifulSoup as bs\n",
    "import requests\n",
    "#from splinter import Browser\n",
    "import numpy as np\n",
    "import lxml\n",
    "import os "
   ]
  },
  {
   "cell_type": "code",
   "execution_count": 51,
   "metadata": {},
   "outputs": [
    {
     "name": "stdout",
     "output_type": "stream",
     "text": [
      "Arbres Els indians.kml\n",
      "3\n",
      "3\n",
      "3\n",
      "3\n",
      "3\n",
      "Arbres La volta al món.kml\n",
      "3\n",
      "6\n",
      "9\n",
      "9\n",
      "9\n",
      "Arbres monumentals i singulars.kml\n",
      "7\n",
      "7\n",
      "16\n",
      "16\n",
      "16\n",
      "Arbres Un passeig per l’Albereda.kml\n",
      "4\n",
      "4\n",
      "20\n",
      "20\n",
      "20\n",
      "Arbres Un viatge pel Mediterrani.kml\n",
      "4\n",
      "10\n",
      "30\n",
      "30\n",
      "30\n",
      "Contes Blasco Ibañez – Ruta 1.kml\n",
      "10\n",
      "10\n",
      "40\n",
      "40\n",
      "40\n",
      "Contes Blasco Ibañez – Ruta 2.kml\n",
      "9\n",
      "9\n",
      "49\n",
      "49\n",
      "49\n",
      "Entre Naranjos.kml\n",
      "10\n",
      "10\n",
      "59\n",
      "59\n",
      "59\n",
      "Glorieta-Santa Catalina.kml\n",
      "29\n",
      "29\n",
      "88\n",
      "88\n",
      "88\n",
      "Jardins del Reial - Glorieta.kml\n",
      "9\n",
      "9\n",
      "97\n",
      "97\n",
      "97\n",
      "La barraca.kml\n",
      "5\n",
      "5\n",
      "102\n",
      "102\n",
      "102\n",
      "Ruta Carrer Russafa - la Llotja.kml\n",
      "18\n",
      "18\n",
      "120\n",
      "120\n",
      "120\n",
      "Ruta Cultural Anell Ciclista.kml\n",
      "15\n",
      "15\n",
      "135\n",
      "135\n",
      "135\n",
      "Ruta de la Seda.kml\n",
      "6\n",
      "6\n",
      "141\n",
      "141\n",
      "141\n",
      "Ruta dels Pecats a l'entorn del Mercat Central.kml\n",
      "3\n",
      "3\n",
      "144\n",
      "144\n",
      "144\n",
      "Ruta pel Centre Històric.kml\n",
      "15\n",
      "15\n",
      "159\n",
      "159\n",
      "159\n",
      "Ruta recinte enmurallat d'època islàmica.kml\n",
      "17\n",
      "18\n",
      "177\n",
      "177\n",
      "177\n",
      "Ruta Valencia en la Memòria.kml\n",
      "16\n",
      "16\n",
      "193\n",
      "193\n",
      "193\n",
      "Sant Agustí - Portal Nou.kml\n",
      "26\n",
      "26\n",
      "219\n",
      "219\n",
      "219\n",
      "Sant Agustí – Pont de Fusta.kml\n",
      "22\n",
      "22\n",
      "241\n",
      "241\n",
      "241\n",
      "Serrans - Palau de la Generalitat.kml\n",
      "13\n",
      "13\n",
      "254\n",
      "254\n",
      "254\n",
      "Torres de Quart - Temple.kml\n",
      "25\n",
      "25\n",
      "279\n",
      "279\n",
      "279\n",
      "Trinitat - L'Almodí.kml\n",
      "10\n",
      "10\n",
      "289\n",
      "289\n",
      "289\n"
     ]
    },
    {
     "ename": "ValueError",
     "evalue": "All arrays must be of the same length",
     "output_type": "error",
     "traceback": [
      "\u001b[1;31m---------------------------------------------------------------------------\u001b[0m",
      "\u001b[1;31mValueError\u001b[0m                                Traceback (most recent call last)",
      "\u001b[1;32mc:\\Users\\Usuario\\Desktop\\desafio-tripulaciones\\src\\notebooks\\rutas1.ipynb Celda 2\u001b[0m in \u001b[0;36m<cell line: 54>\u001b[1;34m()\u001b[0m\n\u001b[0;32m     <a href='vscode-notebook-cell:/c%3A/Users/Usuario/Desktop/desafio-tripulaciones/src/notebooks/rutas1.ipynb#ch0000001?line=41'>42</a>\u001b[0m         \u001b[39mprint\u001b[39m(\u001b[39mlen\u001b[39m(des_ruta_list))\n\u001b[0;32m     <a href='vscode-notebook-cell:/c%3A/Users/Usuario/Desktop/desafio-tripulaciones/src/notebooks/rutas1.ipynb#ch0000001?line=45'>46</a>\u001b[0m data \u001b[39m=\u001b[39m {\n\u001b[0;32m     <a href='vscode-notebook-cell:/c%3A/Users/Usuario/Desktop/desafio-tripulaciones/src/notebooks/rutas1.ipynb#ch0000001?line=46'>47</a>\u001b[0m \u001b[39m\"\u001b[39m\u001b[39mdescripcion\u001b[39m\u001b[39m\"\u001b[39m: des_list,\n\u001b[0;32m     <a href='vscode-notebook-cell:/c%3A/Users/Usuario/Desktop/desafio-tripulaciones/src/notebooks/rutas1.ipynb#ch0000001?line=47'>48</a>\u001b[0m \u001b[39m\"\u001b[39m\u001b[39mcoordenadas\u001b[39m\u001b[39m\"\u001b[39m: cor_list,\n\u001b[1;32m   (...)\u001b[0m\n\u001b[0;32m     <a href='vscode-notebook-cell:/c%3A/Users/Usuario/Desktop/desafio-tripulaciones/src/notebooks/rutas1.ipynb#ch0000001?line=50'>51</a>\u001b[0m \u001b[39m\"\u001b[39m\u001b[39mdescripcion_ruta\u001b[39m\u001b[39m\"\u001b[39m: des_ruta_list\n\u001b[0;32m     <a href='vscode-notebook-cell:/c%3A/Users/Usuario/Desktop/desafio-tripulaciones/src/notebooks/rutas1.ipynb#ch0000001?line=51'>52</a>\u001b[0m }\n\u001b[1;32m---> <a href='vscode-notebook-cell:/c%3A/Users/Usuario/Desktop/desafio-tripulaciones/src/notebooks/rutas1.ipynb#ch0000001?line=53'>54</a>\u001b[0m df_rutas \u001b[39m=\u001b[39m pd\u001b[39m.\u001b[39;49mDataFrame(data)\n",
      "File \u001b[1;32mc:\\Users\\Usuario\\anaconda3\\envs\\Desafio\\lib\\site-packages\\pandas\\core\\frame.py:636\u001b[0m, in \u001b[0;36mDataFrame.__init__\u001b[1;34m(self, data, index, columns, dtype, copy)\u001b[0m\n\u001b[0;32m    630\u001b[0m     mgr \u001b[39m=\u001b[39m \u001b[39mself\u001b[39m\u001b[39m.\u001b[39m_init_mgr(\n\u001b[0;32m    631\u001b[0m         data, axes\u001b[39m=\u001b[39m{\u001b[39m\"\u001b[39m\u001b[39mindex\u001b[39m\u001b[39m\"\u001b[39m: index, \u001b[39m\"\u001b[39m\u001b[39mcolumns\u001b[39m\u001b[39m\"\u001b[39m: columns}, dtype\u001b[39m=\u001b[39mdtype, copy\u001b[39m=\u001b[39mcopy\n\u001b[0;32m    632\u001b[0m     )\n\u001b[0;32m    634\u001b[0m \u001b[39melif\u001b[39;00m \u001b[39misinstance\u001b[39m(data, \u001b[39mdict\u001b[39m):\n\u001b[0;32m    635\u001b[0m     \u001b[39m# GH#38939 de facto copy defaults to False only in non-dict cases\u001b[39;00m\n\u001b[1;32m--> 636\u001b[0m     mgr \u001b[39m=\u001b[39m dict_to_mgr(data, index, columns, dtype\u001b[39m=\u001b[39;49mdtype, copy\u001b[39m=\u001b[39;49mcopy, typ\u001b[39m=\u001b[39;49mmanager)\n\u001b[0;32m    637\u001b[0m \u001b[39melif\u001b[39;00m \u001b[39misinstance\u001b[39m(data, ma\u001b[39m.\u001b[39mMaskedArray):\n\u001b[0;32m    638\u001b[0m     \u001b[39mimport\u001b[39;00m \u001b[39mnumpy\u001b[39;00m\u001b[39m.\u001b[39;00m\u001b[39mma\u001b[39;00m\u001b[39m.\u001b[39;00m\u001b[39mmrecords\u001b[39;00m \u001b[39mas\u001b[39;00m \u001b[39mmrecords\u001b[39;00m\n",
      "File \u001b[1;32mc:\\Users\\Usuario\\anaconda3\\envs\\Desafio\\lib\\site-packages\\pandas\\core\\internals\\construction.py:502\u001b[0m, in \u001b[0;36mdict_to_mgr\u001b[1;34m(data, index, columns, dtype, typ, copy)\u001b[0m\n\u001b[0;32m    494\u001b[0m     arrays \u001b[39m=\u001b[39m [\n\u001b[0;32m    495\u001b[0m         x\n\u001b[0;32m    496\u001b[0m         \u001b[39mif\u001b[39;00m \u001b[39mnot\u001b[39;00m \u001b[39mhasattr\u001b[39m(x, \u001b[39m\"\u001b[39m\u001b[39mdtype\u001b[39m\u001b[39m\"\u001b[39m) \u001b[39mor\u001b[39;00m \u001b[39mnot\u001b[39;00m \u001b[39misinstance\u001b[39m(x\u001b[39m.\u001b[39mdtype, ExtensionDtype)\n\u001b[0;32m    497\u001b[0m         \u001b[39melse\u001b[39;00m x\u001b[39m.\u001b[39mcopy()\n\u001b[0;32m    498\u001b[0m         \u001b[39mfor\u001b[39;00m x \u001b[39min\u001b[39;00m arrays\n\u001b[0;32m    499\u001b[0m     ]\n\u001b[0;32m    500\u001b[0m     \u001b[39m# TODO: can we get rid of the dt64tz special case above?\u001b[39;00m\n\u001b[1;32m--> 502\u001b[0m \u001b[39mreturn\u001b[39;00m arrays_to_mgr(arrays, columns, index, dtype\u001b[39m=\u001b[39;49mdtype, typ\u001b[39m=\u001b[39;49mtyp, consolidate\u001b[39m=\u001b[39;49mcopy)\n",
      "File \u001b[1;32mc:\\Users\\Usuario\\anaconda3\\envs\\Desafio\\lib\\site-packages\\pandas\\core\\internals\\construction.py:120\u001b[0m, in \u001b[0;36marrays_to_mgr\u001b[1;34m(arrays, columns, index, dtype, verify_integrity, typ, consolidate)\u001b[0m\n\u001b[0;32m    117\u001b[0m \u001b[39mif\u001b[39;00m verify_integrity:\n\u001b[0;32m    118\u001b[0m     \u001b[39m# figure out the index, if necessary\u001b[39;00m\n\u001b[0;32m    119\u001b[0m     \u001b[39mif\u001b[39;00m index \u001b[39mis\u001b[39;00m \u001b[39mNone\u001b[39;00m:\n\u001b[1;32m--> 120\u001b[0m         index \u001b[39m=\u001b[39m _extract_index(arrays)\n\u001b[0;32m    121\u001b[0m     \u001b[39melse\u001b[39;00m:\n\u001b[0;32m    122\u001b[0m         index \u001b[39m=\u001b[39m ensure_index(index)\n",
      "File \u001b[1;32mc:\\Users\\Usuario\\anaconda3\\envs\\Desafio\\lib\\site-packages\\pandas\\core\\internals\\construction.py:674\u001b[0m, in \u001b[0;36m_extract_index\u001b[1;34m(data)\u001b[0m\n\u001b[0;32m    672\u001b[0m lengths \u001b[39m=\u001b[39m \u001b[39mlist\u001b[39m(\u001b[39mset\u001b[39m(raw_lengths))\n\u001b[0;32m    673\u001b[0m \u001b[39mif\u001b[39;00m \u001b[39mlen\u001b[39m(lengths) \u001b[39m>\u001b[39m \u001b[39m1\u001b[39m:\n\u001b[1;32m--> 674\u001b[0m     \u001b[39mraise\u001b[39;00m \u001b[39mValueError\u001b[39;00m(\u001b[39m\"\u001b[39m\u001b[39mAll arrays must be of the same length\u001b[39m\u001b[39m\"\u001b[39m)\n\u001b[0;32m    676\u001b[0m \u001b[39mif\u001b[39;00m have_dicts:\n\u001b[0;32m    677\u001b[0m     \u001b[39mraise\u001b[39;00m \u001b[39mValueError\u001b[39;00m(\n\u001b[0;32m    678\u001b[0m         \u001b[39m\"\u001b[39m\u001b[39mMixing dicts with non-Series may lead to ambiguous ordering.\u001b[39m\u001b[39m\"\u001b[39m\n\u001b[0;32m    679\u001b[0m     )\n",
      "\u001b[1;31mValueError\u001b[0m: All arrays must be of the same length"
     ]
    }
   ],
   "source": [
    "\n",
    "\n",
    "des_list = []\n",
    "cor_list = []\n",
    "name_ruta_list = []\n",
    "name_punto_interes_list = []\n",
    "des_ruta_list = []\n",
    "\n",
    "\n",
    "for i in (os.listdir('kml')):\n",
    "\n",
    "    with open(f'kml/{i}','r') as page:\n",
    "\n",
    "        print(i)\n",
    "\n",
    "        soup = bs(page, \"xml\")\n",
    "\n",
    "        des = soup.select('description') \n",
    "        des_1 = [x.get_text() for x in des]\n",
    "        des_list += des_1[1:]\n",
    "\n",
    "        print(len(des_1[1:]))\n",
    "\n",
    "        cor = soup.select('coordinates')\n",
    "        cor_1 = [x.get_text().split() for x in cor]\n",
    "        cor_list +=cor_1\n",
    "\n",
    "        print(len(cor_1))\n",
    "\n",
    "        name_ruta = soup.select('name')\n",
    "        name_ruta_1 = name_ruta[0].get_text()\n",
    "        name_ruta_list += [name_ruta_1 ] * len(cor_1)\n",
    "\n",
    "        print(len(name_ruta_list))\n",
    "\n",
    "        name_punto_interes = soup.select('Placemark name')\n",
    "        name_punto_interes_1 = [x.get_text() for x in name_punto_interes]\n",
    "        name_punto_interes_list += name_punto_interes_1\n",
    "\n",
    "        print(len(name_punto_interes_list))\n",
    "\n",
    "        des_ruta_list += [des_1[0]] * len(cor_1)\n",
    "\n",
    "        print(len(des_ruta_list))\n",
    "\n",
    "\n",
    "\n",
    "data = {\n",
    "\"descripcion\": des_list,\n",
    "\"coordenadas\": cor_list,\n",
    "\"nombre_ruta\": name_ruta_list,\n",
    "\"nombre_punto_interes\": name_punto_interes_list,\n",
    "\"descripcion_ruta\": des_ruta_list\n",
    "}\n",
    "\n",
    "df_rutas = pd.DataFrame(data)\n",
    "\n",
    "\n"
   ]
  },
  {
   "cell_type": "code",
   "execution_count": null,
   "metadata": {},
   "outputs": [],
   "source": [
    "\n",
    "\n",
    "with open(f'kml/{i}','r') as page:\n",
    "\n",
    "    print(i)\n",
    "\n",
    "    soup = bs(page, \"xml\")\n",
    "\n",
    "    des = soup.select('description')\n",
    "    des_1 = [x.get_text() for x in des]\n",
    "    des_list += des_1[1:]\n",
    "\n",
    "    cor = soup.select('coordinates')\n",
    "    cor_1 = [x.get_text().split() for x in cor]\n",
    "    cor_list +=cor_1\n",
    "\n",
    "    name_ruta = soup.select('name')\n",
    "    name_ruta_1 = name_ruta[0].get_text()\n",
    "    name_ruta_list += [name_ruta_1 ] * len(cor_1)\n",
    "\n",
    "    name_punto_interes = soup.select('Placemark name')\n",
    "    name_punto_interes_1 = [x.get_text() for x in name_punto_interes]\n",
    "    name_punto_interes_list += name_punto_interes_1\n",
    "\n",
    "    des_ruta_list += [des_1[0]] * len(cor_1)\n"
   ]
  },
  {
   "cell_type": "code",
   "execution_count": 42,
   "metadata": {},
   "outputs": [
    {
     "data": {
      "text/plain": [
       "'c:\\\\Users\\\\Usuario\\\\Desktop\\\\desafio-tripulaciones\\\\src\\\\notebooks'"
      ]
     },
     "execution_count": 42,
     "metadata": {},
     "output_type": "execute_result"
    }
   ],
   "source": []
  },
  {
   "cell_type": "code",
   "execution_count": 32,
   "metadata": {},
   "outputs": [
    {
     "data": {
      "text/html": [
       "<div>\n",
       "<style scoped>\n",
       "    .dataframe tbody tr th:only-of-type {\n",
       "        vertical-align: middle;\n",
       "    }\n",
       "\n",
       "    .dataframe tbody tr th {\n",
       "        vertical-align: top;\n",
       "    }\n",
       "\n",
       "    .dataframe thead th {\n",
       "        text-align: right;\n",
       "    }\n",
       "</style>\n",
       "<table border=\"1\" class=\"dataframe\">\n",
       "  <thead>\n",
       "    <tr style=\"text-align: right;\">\n",
       "      <th></th>\n",
       "      <th>descripcion</th>\n",
       "      <th>coordenadas</th>\n",
       "      <th>nombre_ruta</th>\n",
       "      <th>nombre_punto_interes</th>\n",
       "      <th>descripcion_ruta</th>\n",
       "    </tr>\n",
       "  </thead>\n",
       "  <tbody>\n",
       "    <tr>\n",
       "      <th>0</th>\n",
       "      <td>Inici de la ruta, dominada per dos exemplars d...</td>\n",
       "      <td>[-0.3318938,39.4613464,0]</td>\n",
       "      <td>Arbres: Els indians</td>\n",
       "      <td>Avinguda de J.J. Dómine</td>\n",
       "      <td>La presència d’Arbres Monumentals i Singulars ...</td>\n",
       "    </tr>\n",
       "    <tr>\n",
       "      <th>1</th>\n",
       "      <td>En aquesta part intermèdia abans d’encarar l’A...</td>\n",
       "      <td>[-0.3338142,39.4605098,0]</td>\n",
       "      <td>Arbres: Els indians</td>\n",
       "      <td>Drassanes del Grau</td>\n",
       "      <td>La presència d’Arbres Monumentals i Singulars ...</td>\n",
       "    </tr>\n",
       "    <tr>\n",
       "      <th>2</th>\n",
       "      <td>Últim tram de la ruta que no obstant això repr...</td>\n",
       "      <td>[-0.3439986,39.46751,0]</td>\n",
       "      <td>Arbres: Els indians</td>\n",
       "      <td>Jardí d'Aiora</td>\n",
       "      <td>La presència d’Arbres Monumentals i Singulars ...</td>\n",
       "    </tr>\n",
       "  </tbody>\n",
       "</table>\n",
       "</div>"
      ],
      "text/plain": [
       "                                         descripcion  \\\n",
       "0  Inici de la ruta, dominada per dos exemplars d...   \n",
       "1  En aquesta part intermèdia abans d’encarar l’A...   \n",
       "2  Últim tram de la ruta que no obstant això repr...   \n",
       "\n",
       "                 coordenadas          nombre_ruta     nombre_punto_interes  \\\n",
       "0  [-0.3318938,39.4613464,0]  Arbres: Els indians  Avinguda de J.J. Dómine   \n",
       "1  [-0.3338142,39.4605098,0]  Arbres: Els indians       Drassanes del Grau   \n",
       "2    [-0.3439986,39.46751,0]  Arbres: Els indians            Jardí d'Aiora   \n",
       "\n",
       "                                    descripcion_ruta  \n",
       "0  La presència d’Arbres Monumentals i Singulars ...  \n",
       "1  La presència d’Arbres Monumentals i Singulars ...  \n",
       "2  La presència d’Arbres Monumentals i Singulars ...  "
      ]
     },
     "execution_count": 32,
     "metadata": {},
     "output_type": "execute_result"
    }
   ],
   "source": [
    "df_rutas"
   ]
  },
  {
   "cell_type": "code",
   "execution_count": 30,
   "metadata": {},
   "outputs": [
    {
     "data": {
      "text/plain": [
       "['La presència d’Arbres Monumentals i Singulars a la ciutat de València, reflecteix l’esperit de persones, moltes anònimes, que van apostar per conservar i protegir a uns dels éssers vius més longeus del Planeta, i la capacitat del qual de créixer durant tota la seua vida ens permet hui dia sorprendre’ns amb les seues dimensions o per característiques que res tenen a veure amb les mesures sinó amb les seues rareses, la seua forma peculiar, els fets històrics associats a ells o perquè són espècies úniques.<br> Els “Indians” és la ruta dels que vénen de molt lluny, els van portar aquelles persones que es van aventurar a creuar l’Atlàntic i van tornar. I amb ells van arribar espècies exòtiques, que els van acompanyar en el seu viatge de retorn. Hui formen part del nostre paisatge urbà i ens recorden a aquells “indians”.',\n",
       " 'Inici de la ruta, dominada per dos exemplars d’Ombús (Phylotaca dioica) i un Arbre ampolla (Brachychiton populneus).',\n",
       " 'En aquesta part intermèdia abans d’encarar l’Avinguda del Port cap al Jardí d’Aiora podem veure una Palmera pindó (Arecastrum romanzoffianum).',\n",
       " 'Últim tram de la ruta que no obstant això representa la part més extensa d’aquesta. Al Jardí d’Aiora hi ha Eucaliptus, Palmeres de Canàries i Figueres australianes.']"
      ]
     },
     "execution_count": 30,
     "metadata": {},
     "output_type": "execute_result"
    }
   ],
   "source": [
    "des_list"
   ]
  },
  {
   "cell_type": "code",
   "execution_count": 27,
   "metadata": {},
   "outputs": [
    {
     "name": "stdout",
     "output_type": "stream",
     "text": [
      "4\n",
      "3\n",
      "3\n",
      "3\n"
     ]
    },
    {
     "data": {
      "text/plain": [
       "3"
      ]
     },
     "execution_count": 27,
     "metadata": {},
     "output_type": "execute_result"
    }
   ],
   "source": [
    "print(len(des_list))\n",
    "print(len(cor_list))\n",
    "print(len(name_ruta_list))\n",
    "print(len(name_punto_interes_list))\n",
    "len(des_ruta_list)"
   ]
  },
  {
   "cell_type": "code",
   "execution_count": 6,
   "metadata": {},
   "outputs": [],
   "source": [
    "des_ruta = soup.select('description')"
   ]
  },
  {
   "cell_type": "code",
   "execution_count": 17,
   "metadata": {},
   "outputs": [
    {
     "data": {
      "text/plain": [
       "['La presència d’Arbres Monumentals i Singulars a la ciutat de València, reflecteix l’esperit de persones, moltes anònimes, que van apostar per conservar i protegir a uns dels éssers vius més longeus del Planeta, i la capacitat del qual de créixer durant tota la seua vida ens permet hui dia sorprendre’ns amb les seues dimensions o per característiques que res tenen a veure amb les mesures sinó amb les seues rareses, la seua forma peculiar, els fets històrics associats a ells o perquè són espècies úniques.<br> Els “Indians” és la ruta dels que vénen de molt lluny, els van portar aquelles persones que es van aventurar a creuar l’Atlàntic i van tornar. I amb ells van arribar espècies exòtiques, que els van acompanyar en el seu viatge de retorn. Hui formen part del nostre paisatge urbà i ens recorden a aquells “indians”.',\n",
       " 'La presència d’Arbres Monumentals i Singulars a la ciutat de València, reflecteix l’esperit de persones, moltes anònimes, que van apostar per conservar i protegir a uns dels éssers vius més longeus del Planeta, i la capacitat del qual de créixer durant tota la seua vida ens permet hui dia sorprendre’ns amb les seues dimensions o per característiques que res tenen a veure amb les mesures sinó amb les seues rareses, la seua forma peculiar, els fets històrics associats a ells o perquè són espècies úniques.<br> Els “Indians” és la ruta dels que vénen de molt lluny, els van portar aquelles persones que es van aventurar a creuar l’Atlàntic i van tornar. I amb ells van arribar espècies exòtiques, que els van acompanyar en el seu viatge de retorn. Hui formen part del nostre paisatge urbà i ens recorden a aquells “indians”.',\n",
       " 'La presència d’Arbres Monumentals i Singulars a la ciutat de València, reflecteix l’esperit de persones, moltes anònimes, que van apostar per conservar i protegir a uns dels éssers vius més longeus del Planeta, i la capacitat del qual de créixer durant tota la seua vida ens permet hui dia sorprendre’ns amb les seues dimensions o per característiques que res tenen a veure amb les mesures sinó amb les seues rareses, la seua forma peculiar, els fets històrics associats a ells o perquè són espècies úniques.<br> Els “Indians” és la ruta dels que vénen de molt lluny, els van portar aquelles persones que es van aventurar a creuar l’Atlàntic i van tornar. I amb ells van arribar espècies exòtiques, que els van acompanyar en el seu viatge de retorn. Hui formen part del nostre paisatge urbà i ens recorden a aquells “indians”.']"
      ]
     },
     "execution_count": 17,
     "metadata": {},
     "output_type": "execute_result"
    }
   ],
   "source": [
    "[des_ruta[0].get_text()] * len(cor_1)"
   ]
  },
  {
   "cell_type": "code",
   "execution_count": 64,
   "metadata": {},
   "outputs": [
    {
     "data": {
      "text/plain": [
       "<bound method PageElement.get_text of <description>La presència d’Arbres Monumentals i Singulars a la ciutat de València, reflecteix l’esperit de persones, moltes anònimes, que van apostar per conservar i protegir a uns dels éssers vius més longeus del Planeta, i la capacitat del qual de créixer durant tota la seua vida ens permet hui dia sorprendre’ns amb les seues dimensions o per característiques que res tenen a veure amb les mesures sinó amb les seues rareses, la seua forma peculiar, els fets històrics associats a ells o perquè són espècies úniques.&lt;br&gt;&lt;br&gt;Tots ells de forma silenciosa contribueixen en la lluita contra el canvi climàtic. Són els nostres aliats i jugaran un paper important a l’interior de les ciutats.&lt;br&gt;&lt;br&gt;Tots ells ens fan la vida més agradable. Són els Testimonis vius de la nostra història, els viatgers del temps i de l’espai, són els hereus del model de ciutat sostenible que construïm ara.&lt;br&gt;&lt;br&gt;La ruta Testimonis de la Història és una raó mes per a recórrer l’anell ciclista, és l’oportunitat de conéixer un anell d’Arbres Monumentals i Singulars envoltant la Ciutat Vella, carregada d’història i de la qual molts d’aquests arbres han sigut testimonis.&lt;br&gt;&lt;br&gt;</description>>"
      ]
     },
     "execution_count": 64,
     "metadata": {},
     "output_type": "execute_result"
    }
   ],
   "source": [
    "des_ruta[0].get_text"
   ]
  },
  {
   "cell_type": "code",
   "execution_count": 48,
   "metadata": {},
   "outputs": [
    {
     "data": {
      "text/plain": [
       "'Arbres monumentals i singulars'"
      ]
     },
     "execution_count": 48,
     "metadata": {},
     "output_type": "execute_result"
    }
   ],
   "source": [
    "name_ruta[0].get_text()"
   ]
  },
  {
   "cell_type": "code",
   "execution_count": 50,
   "metadata": {},
   "outputs": [
    {
     "data": {
      "text/plain": [
       "['Plaça del Ajuntament',\n",
       " 'Jardí de Sant Agustí',\n",
       " 'Parc de la Cultura, antic hospital',\n",
       " 'Museu José Benlliure',\n",
       " 'Torres de Serrans',\n",
       " 'Plaça del Temple',\n",
       " 'Jardins de la Glorieta i el Parterre']"
      ]
     },
     "execution_count": 50,
     "metadata": {},
     "output_type": "execute_result"
    }
   ],
   "source": [
    "[x.get_text() for x in name_punto_interes]"
   ]
  },
  {
   "cell_type": "code",
   "execution_count": 54,
   "metadata": {},
   "outputs": [
    {
     "data": {
      "text/plain": [
       "[['-0.3766718,39.4697971,0'],\n",
       " ['-0.3803908,39.4685944,0'],\n",
       " ['-0.3822362,39.4701225,0'],\n",
       " ['-0.3792016,39.4809367,0'],\n",
       " ['-0.376478,39.4795419,0'],\n",
       " ['-0.3707602,39.476343,0'],\n",
       " ['-0.3695467,39.472754,0']]"
      ]
     },
     "execution_count": 54,
     "metadata": {},
     "output_type": "execute_result"
    }
   ],
   "source": [
    "[x.get_text().split() for x in cor]"
   ]
  },
  {
   "cell_type": "code",
   "execution_count": 59,
   "metadata": {},
   "outputs": [
    {
     "data": {
      "text/plain": [
       "['La presència d’Arbres Monumentals i Singulars a la ciutat de València, reflecteix l’esperit de persones, moltes anònimes, que van apostar per conservar i protegir a uns dels éssers vius més longeus del Planeta, i la capacitat del qual de créixer durant tota la seua vida ens permet hui dia sorprendre’ns amb les seues dimensions o per característiques que res tenen a veure amb les mesures sinó amb les seues rareses, la seua forma peculiar, els fets històrics associats a ells o perquè són espècies úniques.<br><br>Tots ells de forma silenciosa contribueixen en la lluita contra el canvi climàtic. Són els nostres aliats i jugaran un paper important a l’interior de les ciutats.<br><br>Tots ells ens fan la vida més agradable. Són els Testimonis vius de la nostra història, els viatgers del temps i de l’espai, són els hereus del model de ciutat sostenible que construïm ara.<br><br>La ruta Testimonis de la Història és una raó mes per a recórrer l’anell ciclista, és l’oportunitat de conéixer un anell d’Arbres Monumentals i Singulars envoltant la Ciutat Vella, carregada d’història i de la qual molts d’aquests arbres han sigut testimonis.<br><br>',\n",
       " '(Chamaerops humilis) En la Plaça del Ajuntament podem trobar un “Palmito”, una palmera europea. Els cabdells de la seua tija són comestibles. Les seues fulles s’utilitzaben per confeccionar graneres. Aquest exemplar té més de 60 anys i el trobarem al costat de la font.',\n",
       " 'En el Jardí de Sant Agustí es troba un lledoner (Celtis australis). Els seus fruits són comestibles i es diuen llidons. Ho trobarem dins del jardí, enfront de l’estàtua del mestre Marçal.',\n",
       " 'Xiprer de Cachemira (Cupreshus cashmeriana). Creix fins als 2800 metres d’altitud. Espècie amenaçada que es va conservar en temples budistes. Té color blau verd brillant.',\n",
       " 'Til·ler europeu (Tilia europea). En infusió és relaxant.',\n",
       " 'Figuera australiana (Ficus macrophilia). L’escorça és grisa. Altres exemplars d’interés en el Palau de Raga, Plaça del Centenar de l’Emploma.',\n",
       " 'Conjunt de palmeres monumentals.',\n",
       " 'Carrasca de glans dolços (Quercus ballota). Al costat de la font del tritó (col·locada en 1833).']"
      ]
     },
     "execution_count": 59,
     "metadata": {},
     "output_type": "execute_result"
    }
   ],
   "source": [
    "[x.get_text() for x in des]"
   ]
  }
 ],
 "metadata": {
  "kernelspec": {
   "display_name": "Python 3.8.13 ('Desafio')",
   "language": "python",
   "name": "python3"
  },
  "language_info": {
   "codemirror_mode": {
    "name": "ipython",
    "version": 3
   },
   "file_extension": ".py",
   "mimetype": "text/x-python",
   "name": "python",
   "nbconvert_exporter": "python",
   "pygments_lexer": "ipython3",
   "version": "3.8.13"
  },
  "orig_nbformat": 4,
  "vscode": {
   "interpreter": {
    "hash": "6f859f9c55cc19213dc1deb62dbf10845fa2b4fff4d235bd7e0ca5725c038bb1"
   }
  }
 },
 "nbformat": 4,
 "nbformat_minor": 2
}
