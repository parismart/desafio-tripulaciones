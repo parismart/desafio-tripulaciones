{
 "cells": [
  {
   "cell_type": "code",
   "execution_count": 3,
   "metadata": {},
   "outputs": [],
   "source": [
    "\n",
    "import pandas as pd\n",
    "from bs4 import BeautifulSoup as bs\n",
    "import numpy as np\n",
    "import xml\n",
    "import os "
   ]
  },
  {
   "cell_type": "code",
   "execution_count": 4,
   "metadata": {},
   "outputs": [
    {
     "ename": "UnicodeDecodeError",
     "evalue": "'charmap' codec can't decode byte 0x9d in position 712: character maps to <undefined>",
     "output_type": "error",
     "traceback": [
      "\u001b[1;31m---------------------------------------------------------------------------\u001b[0m",
      "\u001b[1;31mUnicodeDecodeError\u001b[0m                        Traceback (most recent call last)",
      "\u001b[1;32mc:\\Users\\Usuario\\Desktop\\desafio-tripulaciones\\src\\notebooks\\rutas1.ipynb Celda 2\u001b[0m in \u001b[0;36m<cell line: 8>\u001b[1;34m()\u001b[0m\n\u001b[0;32m      <a href='vscode-notebook-cell:/c%3A/Users/Usuario/Desktop/desafio-tripulaciones/src/notebooks/rutas1.ipynb#ch0000001?line=7'>8</a>\u001b[0m \u001b[39mfor\u001b[39;00m i \u001b[39min\u001b[39;00m (os\u001b[39m.\u001b[39mlistdir(\u001b[39m'\u001b[39m\u001b[39mkml\u001b[39m\u001b[39m'\u001b[39m)):\n\u001b[0;32m     <a href='vscode-notebook-cell:/c%3A/Users/Usuario/Desktop/desafio-tripulaciones/src/notebooks/rutas1.ipynb#ch0000001?line=9'>10</a>\u001b[0m     \u001b[39mwith\u001b[39;00m \u001b[39mopen\u001b[39m(\u001b[39mf\u001b[39m\u001b[39m'\u001b[39m\u001b[39mkml/\u001b[39m\u001b[39m{\u001b[39;00mi\u001b[39m}\u001b[39;00m\u001b[39m'\u001b[39m,\u001b[39m'\u001b[39m\u001b[39mr\u001b[39m\u001b[39m'\u001b[39m) \u001b[39mas\u001b[39;00m page:\n\u001b[1;32m---> <a href='vscode-notebook-cell:/c%3A/Users/Usuario/Desktop/desafio-tripulaciones/src/notebooks/rutas1.ipynb#ch0000001?line=11'>12</a>\u001b[0m         soup \u001b[39m=\u001b[39m bs(page, \u001b[39m\"\u001b[39;49m\u001b[39mxml\u001b[39;49m\u001b[39m\"\u001b[39;49m)\n\u001b[0;32m     <a href='vscode-notebook-cell:/c%3A/Users/Usuario/Desktop/desafio-tripulaciones/src/notebooks/rutas1.ipynb#ch0000001?line=13'>14</a>\u001b[0m         des \u001b[39m=\u001b[39m soup\u001b[39m.\u001b[39mselect(\u001b[39m'\u001b[39m\u001b[39mdescription\u001b[39m\u001b[39m'\u001b[39m) \n\u001b[0;32m     <a href='vscode-notebook-cell:/c%3A/Users/Usuario/Desktop/desafio-tripulaciones/src/notebooks/rutas1.ipynb#ch0000001?line=14'>15</a>\u001b[0m         des_1 \u001b[39m=\u001b[39m [x\u001b[39m.\u001b[39mget_text() \u001b[39mfor\u001b[39;00m x \u001b[39min\u001b[39;00m des]\n",
      "File \u001b[1;32mc:\\Users\\Usuario\\anaconda3\\envs\\Desafio\\lib\\site-packages\\bs4\\__init__.py:312\u001b[0m, in \u001b[0;36mBeautifulSoup.__init__\u001b[1;34m(self, markup, features, builder, parse_only, from_encoding, exclude_encodings, element_classes, **kwargs)\u001b[0m\n\u001b[0;32m    309\u001b[0m \u001b[39mself\u001b[39m\u001b[39m.\u001b[39mparse_only \u001b[39m=\u001b[39m parse_only\n\u001b[0;32m    311\u001b[0m \u001b[39mif\u001b[39;00m \u001b[39mhasattr\u001b[39m(markup, \u001b[39m'\u001b[39m\u001b[39mread\u001b[39m\u001b[39m'\u001b[39m):        \u001b[39m# It's a file-type object.\u001b[39;00m\n\u001b[1;32m--> 312\u001b[0m     markup \u001b[39m=\u001b[39m markup\u001b[39m.\u001b[39;49mread()\n\u001b[0;32m    313\u001b[0m \u001b[39melif\u001b[39;00m \u001b[39mlen\u001b[39m(markup) \u001b[39m<\u001b[39m\u001b[39m=\u001b[39m \u001b[39m256\u001b[39m \u001b[39mand\u001b[39;00m (\n\u001b[0;32m    314\u001b[0m         (\u001b[39misinstance\u001b[39m(markup, \u001b[39mbytes\u001b[39m) \u001b[39mand\u001b[39;00m \u001b[39mnot\u001b[39;00m \u001b[39mb\u001b[39m\u001b[39m'\u001b[39m\u001b[39m<\u001b[39m\u001b[39m'\u001b[39m \u001b[39min\u001b[39;00m markup)\n\u001b[0;32m    315\u001b[0m         \u001b[39mor\u001b[39;00m (\u001b[39misinstance\u001b[39m(markup, \u001b[39mstr\u001b[39m) \u001b[39mand\u001b[39;00m \u001b[39mnot\u001b[39;00m \u001b[39m'\u001b[39m\u001b[39m<\u001b[39m\u001b[39m'\u001b[39m \u001b[39min\u001b[39;00m markup)\n\u001b[1;32m   (...)\u001b[0m\n\u001b[0;32m    319\u001b[0m     \u001b[39m# Beautiful Soup will still parse the input as markup,\u001b[39;00m\n\u001b[0;32m    320\u001b[0m     \u001b[39m# since that is sometimes the intended behavior.\u001b[39;00m\n\u001b[0;32m    321\u001b[0m     \u001b[39mif\u001b[39;00m \u001b[39mnot\u001b[39;00m \u001b[39mself\u001b[39m\u001b[39m.\u001b[39m_markup_is_url(markup):\n",
      "File \u001b[1;32mc:\\Users\\Usuario\\anaconda3\\envs\\Desafio\\lib\\encodings\\cp1252.py:23\u001b[0m, in \u001b[0;36mIncrementalDecoder.decode\u001b[1;34m(self, input, final)\u001b[0m\n\u001b[0;32m     22\u001b[0m \u001b[39mdef\u001b[39;00m \u001b[39mdecode\u001b[39m(\u001b[39mself\u001b[39m, \u001b[39minput\u001b[39m, final\u001b[39m=\u001b[39m\u001b[39mFalse\u001b[39;00m):\n\u001b[1;32m---> 23\u001b[0m     \u001b[39mreturn\u001b[39;00m codecs\u001b[39m.\u001b[39;49mcharmap_decode(\u001b[39minput\u001b[39;49m,\u001b[39mself\u001b[39;49m\u001b[39m.\u001b[39;49merrors,decoding_table)[\u001b[39m0\u001b[39m]\n",
      "\u001b[1;31mUnicodeDecodeError\u001b[0m: 'charmap' codec can't decode byte 0x9d in position 712: character maps to <undefined>"
     ]
    }
   ],
   "source": [
    "\n",
    "\n",
    "des_list = []\n",
    "cor_list = []\n",
    "name_ruta_list = []\n",
    "name_punto_interes_list = []\n",
    "des_ruta_list = []\n",
    "\n",
    "\n",
    "for i in (os.listdir('kml')):\n",
    "\n",
    "    with open(f'kml/{i}','r') as page:\n",
    "\n",
    "        soup = bs(page, \"xml\")\n",
    "\n",
    "        des = soup.select('description') \n",
    "        des_1 = [x.get_text() for x in des]\n",
    "        des_list += des_1[1:]\n",
    "        print(len(des_list))\n",
    "\n",
    "        cor = soup.select('coordinates')\n",
    "        cor_1 = [x.get_text().split() for x in cor]\n",
    "        cor_list +=cor_1\n",
    "        print(len(cor_list))\n",
    "\n",
    "        name_ruta = soup.select('name')\n",
    "        name_ruta_1 = name_ruta[0].get_text()\n",
    "        name_ruta_list += [name_ruta_1 ] * len(name_punto_interes_1)\n",
    "\n",
    "        name_punto_interes = soup.select('Placemark name')\n",
    "        name_punto_interes_1 = [x.get_text() for x in name_punto_interes]\n",
    "        name_punto_interes_list += name_punto_interes_1\n",
    "\n",
    "        des_ruta_list += [des_1[0]] * len(name_punto_interes_1)\n",
    "\n"
   ]
  },
  {
   "cell_type": "code",
   "execution_count": null,
   "metadata": {},
   "outputs": [
    {
     "name": "stdout",
     "output_type": "stream",
     "text": [
      "259\n",
      "259\n"
     ]
    }
   ],
   "source": [
    "\n",
    "\n",
    "url = 'kml_2/Arbres Un viatge pel Mediterrani.kml'\n",
    "\n",
    "with open(url,'r') as page:\n",
    "\n",
    "        soup = bs(page, \"xml\")\n",
    "\n",
    "        des = soup.select('description') \n",
    "        des_1 = [x.get_text() for x in des]\n",
    "        des_list += des_1[1:]\n",
    "        print(len(des_list))\n",
    "\n",
    "        cor = soup.select('Point coordinates')\n",
    "        cor_1 = [x.get_text().split() for x in cor]\n",
    "        cor_list +=cor_1[:4]\n",
    "        print(len(cor_list))\n",
    "\n",
    "\n",
    "        name_ruta = soup.select('name')\n",
    "        name_ruta_1 = name_ruta[0].get_text()\n",
    "        name_ruta_list += [name_ruta_1 ] * len(name_punto_interes_1)\n",
    "\n",
    "        name_punto_interes = soup.select('Placemark name')\n",
    "        name_punto_interes_1 = [x.get_text() for x in name_punto_interes]\n",
    "        name_punto_interes_list += name_punto_interes_1\n",
    "\n",
    "        des_ruta_list += [des_1[0]] * len(name_punto_interes_1)"
   ]
  },
  {
   "cell_type": "code",
   "execution_count": null,
   "metadata": {},
   "outputs": [
    {
     "name": "stdout",
     "output_type": "stream",
     "text": [
      "262\n",
      "263\n"
     ]
    }
   ],
   "source": [
    "\n",
    "\n",
    "url = 'kml_2/Arbres La volta al món.kml'\n",
    "\n",
    "with open(url,'r') as page:\n",
    "\n",
    "        soup = bs(page, \"xml\")\n",
    "\n",
    "        des = soup.select('description') \n",
    "        des_1 = [x.get_text() for x in des]\n",
    "        des_list += des_1[1:]\n",
    "        print(len(des_list))\n",
    "\n",
    "        cor = soup.select('Point coordinates')\n",
    "        cor_1 = [x.get_text().split() for x in cor]\n",
    "        cor_list +=cor_1[:3]\n",
    "        print(len(cor_list))\n",
    "\n",
    "\n",
    "        name_ruta = soup.select('name')\n",
    "        name_ruta_1 = name_ruta[0].get_text()\n",
    "        name_ruta_list += [name_ruta_1 ] * len(name_punto_interes_1)\n",
    "\n",
    "        name_punto_interes = soup.select('Placemark name')\n",
    "        name_punto_interes_1 = [x.get_text() for x in name_punto_interes]\n",
    "        name_punto_interes_list += name_punto_interes_1\n",
    "\n",
    "        des_ruta_list += [des_1[0]] * len(name_punto_interes_1)"
   ]
  },
  {
   "cell_type": "code",
   "execution_count": null,
   "metadata": {},
   "outputs": [
    {
     "name": "stdout",
     "output_type": "stream",
     "text": [
      "277\n",
      "267\n"
     ]
    }
   ],
   "source": [
    "\n",
    "url = \"kml_2/Ruta recinte enmurallat d'època islàmica.kml\"\n",
    "\n",
    "with open(url,'r') as page:\n",
    "\n",
    "        soup = bs(page, \"xml\")\n",
    "\n",
    "        des = soup.select('description')\n",
    "        des_0 = des_1[0]\n",
    "        des_1 = [x.get_text().split('<br>')[2] for x in des[1:-4]]\n",
    "        des_2 = des[-4].text.split('<br>')[2]\n",
    "        des_list += [des_0] + des_1[1:] + ['None'] + [des_2]\n",
    "        print(len(des_list))\n",
    "\n",
    "        des_3 = des[-3].text\n",
    "        des_4 = des[-2].text.split('<br>')[2]\n",
    "        des_5 = des[-1].text\n",
    "        des_list += [des_3] + [des_4] + [des_5]\n",
    "\n",
    "        cor = soup.select('Point coordinates')\n",
    "        cor_1 = [x.get_text().split() for x in cor]\n",
    "        cor_list +=cor_1[:4]\n",
    "        print(len(cor_list))\n",
    "\n",
    "\n",
    "        name_ruta = soup.select('name')\n",
    "        name_ruta_1 = name_ruta[0].get_text()\n",
    "        name_ruta_list += [name_ruta_1 ] * len(name_punto_interes_1)\n",
    "\n",
    "        name_punto_interes = soup.select('Placemark name')\n",
    "        name_punto_interes_1 = [x.get_text() for x in name_punto_interes]\n",
    "        name_punto_interes_list += name_punto_interes_1\n",
    "\n",
    "        des_ruta_list += [des[0].text]* len(name_punto_interes_1)"
   ]
  },
  {
   "cell_type": "code",
   "execution_count": null,
   "metadata": {},
   "outputs": [],
   "source": []
  },
  {
   "cell_type": "code",
   "execution_count": null,
   "metadata": {},
   "outputs": [
    {
     "name": "stdout",
     "output_type": "stream",
     "text": [
      "280 267 289 289 289\n"
     ]
    }
   ],
   "source": [
    "print(len(des_list), len(cor_list), len(name_ruta_list), len(name_punto_interes_list), len(des_ruta_list))\n"
   ]
  },
  {
   "cell_type": "code",
   "execution_count": null,
   "metadata": {},
   "outputs": [
    {
     "ename": "ValueError",
     "evalue": "All arrays must be of the same length",
     "output_type": "error",
     "traceback": [
      "\u001b[1;31m---------------------------------------------------------------------------\u001b[0m",
      "\u001b[1;31mValueError\u001b[0m                                Traceback (most recent call last)",
      "\u001b[1;32mc:\\Users\\Usuario\\Desktop\\desafio-tripulaciones\\src\\notebooks\\rutas1.ipynb Celda 7\u001b[0m in \u001b[0;36m<cell line: 9>\u001b[1;34m()\u001b[0m\n\u001b[0;32m      <a href='vscode-notebook-cell:/c%3A/Users/Usuario/Desktop/desafio-tripulaciones/src/notebooks/rutas1.ipynb#ch0000029?line=0'>1</a>\u001b[0m data \u001b[39m=\u001b[39m {\n\u001b[0;32m      <a href='vscode-notebook-cell:/c%3A/Users/Usuario/Desktop/desafio-tripulaciones/src/notebooks/rutas1.ipynb#ch0000029?line=1'>2</a>\u001b[0m \u001b[39m\"\u001b[39m\u001b[39mdescripcion\u001b[39m\u001b[39m\"\u001b[39m: des_list,\n\u001b[0;32m      <a href='vscode-notebook-cell:/c%3A/Users/Usuario/Desktop/desafio-tripulaciones/src/notebooks/rutas1.ipynb#ch0000029?line=2'>3</a>\u001b[0m \u001b[39m\"\u001b[39m\u001b[39mcoordenadas\u001b[39m\u001b[39m\"\u001b[39m: cor_list,\n\u001b[1;32m   (...)\u001b[0m\n\u001b[0;32m      <a href='vscode-notebook-cell:/c%3A/Users/Usuario/Desktop/desafio-tripulaciones/src/notebooks/rutas1.ipynb#ch0000029?line=5'>6</a>\u001b[0m \u001b[39m\"\u001b[39m\u001b[39mdescripcion_ruta\u001b[39m\u001b[39m\"\u001b[39m: des_ruta_list\n\u001b[0;32m      <a href='vscode-notebook-cell:/c%3A/Users/Usuario/Desktop/desafio-tripulaciones/src/notebooks/rutas1.ipynb#ch0000029?line=6'>7</a>\u001b[0m }\n\u001b[1;32m----> <a href='vscode-notebook-cell:/c%3A/Users/Usuario/Desktop/desafio-tripulaciones/src/notebooks/rutas1.ipynb#ch0000029?line=8'>9</a>\u001b[0m df_rutas \u001b[39m=\u001b[39m pd\u001b[39m.\u001b[39;49mDataFrame(data)\n",
      "File \u001b[1;32mc:\\Users\\Usuario\\anaconda3\\envs\\Desafio\\lib\\site-packages\\pandas\\core\\frame.py:636\u001b[0m, in \u001b[0;36mDataFrame.__init__\u001b[1;34m(self, data, index, columns, dtype, copy)\u001b[0m\n\u001b[0;32m    630\u001b[0m     mgr \u001b[39m=\u001b[39m \u001b[39mself\u001b[39m\u001b[39m.\u001b[39m_init_mgr(\n\u001b[0;32m    631\u001b[0m         data, axes\u001b[39m=\u001b[39m{\u001b[39m\"\u001b[39m\u001b[39mindex\u001b[39m\u001b[39m\"\u001b[39m: index, \u001b[39m\"\u001b[39m\u001b[39mcolumns\u001b[39m\u001b[39m\"\u001b[39m: columns}, dtype\u001b[39m=\u001b[39mdtype, copy\u001b[39m=\u001b[39mcopy\n\u001b[0;32m    632\u001b[0m     )\n\u001b[0;32m    634\u001b[0m \u001b[39melif\u001b[39;00m \u001b[39misinstance\u001b[39m(data, \u001b[39mdict\u001b[39m):\n\u001b[0;32m    635\u001b[0m     \u001b[39m# GH#38939 de facto copy defaults to False only in non-dict cases\u001b[39;00m\n\u001b[1;32m--> 636\u001b[0m     mgr \u001b[39m=\u001b[39m dict_to_mgr(data, index, columns, dtype\u001b[39m=\u001b[39;49mdtype, copy\u001b[39m=\u001b[39;49mcopy, typ\u001b[39m=\u001b[39;49mmanager)\n\u001b[0;32m    637\u001b[0m \u001b[39melif\u001b[39;00m \u001b[39misinstance\u001b[39m(data, ma\u001b[39m.\u001b[39mMaskedArray):\n\u001b[0;32m    638\u001b[0m     \u001b[39mimport\u001b[39;00m \u001b[39mnumpy\u001b[39;00m\u001b[39m.\u001b[39;00m\u001b[39mma\u001b[39;00m\u001b[39m.\u001b[39;00m\u001b[39mmrecords\u001b[39;00m \u001b[39mas\u001b[39;00m \u001b[39mmrecords\u001b[39;00m\n",
      "File \u001b[1;32mc:\\Users\\Usuario\\anaconda3\\envs\\Desafio\\lib\\site-packages\\pandas\\core\\internals\\construction.py:502\u001b[0m, in \u001b[0;36mdict_to_mgr\u001b[1;34m(data, index, columns, dtype, typ, copy)\u001b[0m\n\u001b[0;32m    494\u001b[0m     arrays \u001b[39m=\u001b[39m [\n\u001b[0;32m    495\u001b[0m         x\n\u001b[0;32m    496\u001b[0m         \u001b[39mif\u001b[39;00m \u001b[39mnot\u001b[39;00m \u001b[39mhasattr\u001b[39m(x, \u001b[39m\"\u001b[39m\u001b[39mdtype\u001b[39m\u001b[39m\"\u001b[39m) \u001b[39mor\u001b[39;00m \u001b[39mnot\u001b[39;00m \u001b[39misinstance\u001b[39m(x\u001b[39m.\u001b[39mdtype, ExtensionDtype)\n\u001b[0;32m    497\u001b[0m         \u001b[39melse\u001b[39;00m x\u001b[39m.\u001b[39mcopy()\n\u001b[0;32m    498\u001b[0m         \u001b[39mfor\u001b[39;00m x \u001b[39min\u001b[39;00m arrays\n\u001b[0;32m    499\u001b[0m     ]\n\u001b[0;32m    500\u001b[0m     \u001b[39m# TODO: can we get rid of the dt64tz special case above?\u001b[39;00m\n\u001b[1;32m--> 502\u001b[0m \u001b[39mreturn\u001b[39;00m arrays_to_mgr(arrays, columns, index, dtype\u001b[39m=\u001b[39;49mdtype, typ\u001b[39m=\u001b[39;49mtyp, consolidate\u001b[39m=\u001b[39;49mcopy)\n",
      "File \u001b[1;32mc:\\Users\\Usuario\\anaconda3\\envs\\Desafio\\lib\\site-packages\\pandas\\core\\internals\\construction.py:120\u001b[0m, in \u001b[0;36marrays_to_mgr\u001b[1;34m(arrays, columns, index, dtype, verify_integrity, typ, consolidate)\u001b[0m\n\u001b[0;32m    117\u001b[0m \u001b[39mif\u001b[39;00m verify_integrity:\n\u001b[0;32m    118\u001b[0m     \u001b[39m# figure out the index, if necessary\u001b[39;00m\n\u001b[0;32m    119\u001b[0m     \u001b[39mif\u001b[39;00m index \u001b[39mis\u001b[39;00m \u001b[39mNone\u001b[39;00m:\n\u001b[1;32m--> 120\u001b[0m         index \u001b[39m=\u001b[39m _extract_index(arrays)\n\u001b[0;32m    121\u001b[0m     \u001b[39melse\u001b[39;00m:\n\u001b[0;32m    122\u001b[0m         index \u001b[39m=\u001b[39m ensure_index(index)\n",
      "File \u001b[1;32mc:\\Users\\Usuario\\anaconda3\\envs\\Desafio\\lib\\site-packages\\pandas\\core\\internals\\construction.py:674\u001b[0m, in \u001b[0;36m_extract_index\u001b[1;34m(data)\u001b[0m\n\u001b[0;32m    672\u001b[0m lengths \u001b[39m=\u001b[39m \u001b[39mlist\u001b[39m(\u001b[39mset\u001b[39m(raw_lengths))\n\u001b[0;32m    673\u001b[0m \u001b[39mif\u001b[39;00m \u001b[39mlen\u001b[39m(lengths) \u001b[39m>\u001b[39m \u001b[39m1\u001b[39m:\n\u001b[1;32m--> 674\u001b[0m     \u001b[39mraise\u001b[39;00m \u001b[39mValueError\u001b[39;00m(\u001b[39m\"\u001b[39m\u001b[39mAll arrays must be of the same length\u001b[39m\u001b[39m\"\u001b[39m)\n\u001b[0;32m    676\u001b[0m \u001b[39mif\u001b[39;00m have_dicts:\n\u001b[0;32m    677\u001b[0m     \u001b[39mraise\u001b[39;00m \u001b[39mValueError\u001b[39;00m(\n\u001b[0;32m    678\u001b[0m         \u001b[39m\"\u001b[39m\u001b[39mMixing dicts with non-Series may lead to ambiguous ordering.\u001b[39m\u001b[39m\"\u001b[39m\n\u001b[0;32m    679\u001b[0m     )\n",
      "\u001b[1;31mValueError\u001b[0m: All arrays must be of the same length"
     ]
    }
   ],
   "source": [
    "\n",
    "data = {\n",
    "\"descripcion\": des_list,\n",
    "\"coordenadas\": cor_list,\n",
    "\"nombre_ruta\": name_ruta_list,\n",
    "\"nombre_punto_interes\": name_punto_interes_list,\n",
    "\"descripcion_ruta\": des_ruta_list\n",
    "}\n",
    "\n",
    "df_rutas = pd.DataFrame(data)\n"
   ]
  },
  {
   "cell_type": "code",
   "execution_count": null,
   "metadata": {},
   "outputs": [],
   "source": [
    "df_rutas.to_csv('data/puntos_interes.csv')"
   ]
  }
 ],
 "metadata": {
  "kernelspec": {
   "display_name": "Python 3.8.13 ('Desafio')",
   "language": "python",
   "name": "python3"
  },
  "language_info": {
   "codemirror_mode": {
    "name": "ipython",
    "version": 3
   },
   "file_extension": ".py",
   "mimetype": "text/x-python",
   "name": "python",
   "nbconvert_exporter": "python",
   "pygments_lexer": "ipython3",
   "version": "3.8.13"
  },
  "orig_nbformat": 4,
  "vscode": {
   "interpreter": {
    "hash": "6f859f9c55cc19213dc1deb62dbf10845fa2b4fff4d235bd7e0ca5725c038bb1"
   }
  }
 },
 "nbformat": 4,
 "nbformat_minor": 2
}
