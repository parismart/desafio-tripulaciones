{
 "cells": [
  {
   "cell_type": "code",
   "execution_count": 11,
   "metadata": {},
   "outputs": [],
   "source": [
    "from selenium import webdriver\n",
    "from webdriver_manager.chrome import ChromeDriverManager\n",
    "import time\n",
    "from bs4 import BeautifulSoup as bs\n",
    "import seaborn as sns\n",
    "import matplotlib.pyplot as plt\n",
    "import pandas as pd\n",
    "import numpy as np\n",
    "import lxml"
   ]
  },
  {
   "cell_type": "code",
   "execution_count": 2,
   "metadata": {},
   "outputs": [
    {
     "name": "stdout",
     "output_type": "stream",
     "text": [
      "\n"
     ]
    },
    {
     "name": "stderr",
     "output_type": "stream",
     "text": [
      "C:\\Users\\Paris\\AppData\\Local\\Temp\\ipykernel_2000\\794677937.py:2: DeprecationWarning: executable_path has been deprecated, please pass in a Service object\n",
      "  driver = webdriver.Chrome(ChromeDriverManager().install())\n"
     ]
    }
   ],
   "source": [
    "# Creamos el driver con el que nos vamos a manejar en la sesión de scrapeo:\n",
    "driver = webdriver.Chrome(ChromeDriverManager().install())"
   ]
  },
  {
   "cell_type": "code",
   "execution_count": 139,
   "metadata": {},
   "outputs": [],
   "source": [
    "# indicamos la URL de la página web a la que queremos acceder:\n",
    "url = 'https://cultural.valencia.es/es/rutas/'\n",
    "# el objeto driver nos va a permitir alterar el estado del la página\n",
    "driver.get(url)\n",
    "time.sleep(5)\n",
    "\n",
    "cookies = driver.find_element(\"xpath\", \"/html/body/div[1]/div/div/div[2]\")\n",
    "cookies.click()\n",
    "time.sleep(2)"
   ]
  },
  {
   "cell_type": "code",
   "execution_count": 140,
   "metadata": {},
   "outputs": [],
   "source": [
    "names =[]\n",
    "descriptions =[]\n",
    "types =[]\n",
    "urls =[]\n",
    "images =[]"
   ]
  },
  {
   "cell_type": "code",
   "execution_count": 144,
   "metadata": {},
   "outputs": [],
   "source": [
    "soup = bs(driver.page_source,\"lxml\")\n",
    "\n",
    "names_soup = soup.select(\"a.lnk_title\")\n",
    "types_soup = soup.select(\"div.header-metainfo\")\n",
    "descriptions_soup = soup.select(\"div.excerpt p\")\n",
    "urls_soup = soup.select(\"div.metabloque a\")\n",
    "images_soup = soup.select(\"img\")\n",
    "\n",
    "for name in names_soup:\n",
    "    names.append(name.text)\n",
    "for description in descriptions_soup:\n",
    "    descriptions.append(description.text)\n",
    "for type in types_soup:\n",
    "    types.append(type.text.split()[-2:])\n",
    "for url in urls_soup:\n",
    "    urls.append(url['href'])"
   ]
  },
  {
   "cell_type": "code",
   "execution_count": 142,
   "metadata": {},
   "outputs": [],
   "source": [
    "for image in images_soup:\n",
    "    images.append(image['src'])\n",
    "images = images[6:-2]"
   ]
  },
  {
   "cell_type": "code",
   "execution_count": 143,
   "metadata": {},
   "outputs": [],
   "source": [
    "next_page = driver.find_element(\"xpath\", \"/html/body/div[2]/div[2]/div/article/div/div/div/div/section[1]/div/div/div[2]/div/div/div[2]/div/div/div[2]/div[3]/ul/li[2]/a\")\n",
    "next_page.click()\n",
    "time.sleep(2)"
   ]
  },
  {
   "cell_type": "code",
   "execution_count": 146,
   "metadata": {},
   "outputs": [],
   "source": [
    "images_2 = []\n",
    "for image_2 in images_soup:\n",
    "    images_2.append(image_2['src'])\n",
    "images_2 = images_2[6:-2]"
   ]
  },
  {
   "cell_type": "code",
   "execution_count": 151,
   "metadata": {},
   "outputs": [],
   "source": [
    "images = images + images_2"
   ]
  },
  {
   "cell_type": "code",
   "execution_count": 153,
   "metadata": {},
   "outputs": [],
   "source": [
    "data = {'name':names,\n",
    "    'description':descriptions,\n",
    "    'types':types,\n",
    "    'image':images,\n",
    "    'url':urls}"
   ]
  },
  {
   "cell_type": "code",
   "execution_count": 154,
   "metadata": {},
   "outputs": [],
   "source": [
    "df_routes = pd.DataFrame(data)"
   ]
  },
  {
   "cell_type": "code",
   "execution_count": 156,
   "metadata": {},
   "outputs": [],
   "source": [
    "df_routes.to_csv('data/routes.csv')"
   ]
  }
 ],
 "metadata": {
  "kernelspec": {
   "display_name": "Python 3.8.13 ('desafio')",
   "language": "python",
   "name": "python3"
  },
  "language_info": {
   "codemirror_mode": {
    "name": "ipython",
    "version": 3
   },
   "file_extension": ".py",
   "mimetype": "text/x-python",
   "name": "python",
   "nbconvert_exporter": "python",
   "pygments_lexer": "ipython3",
   "version": "3.8.13"
  },
  "orig_nbformat": 4,
  "vscode": {
   "interpreter": {
    "hash": "5d04af2a4c2eebf185407e64277cc7655766a357171489808da903e927244626"
   }
  }
 },
 "nbformat": 4,
 "nbformat_minor": 2
}
